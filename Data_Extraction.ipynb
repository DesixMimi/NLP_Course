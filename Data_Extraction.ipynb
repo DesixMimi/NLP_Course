{
 "cells": [
  {
   "cell_type": "code",
   "execution_count": 1,
   "id": "15c71ebe-9128-4eed-b7d6-e86ee2b15bd0",
   "metadata": {
    "tags": []
   },
   "outputs": [],
   "source": [
    "import pandas as pd\n",
    "# Load the two CSV files\n",
    "users_df = pd.read_csv('author_profiles.csv')\n",
    "comments_df = pd.read_csv('all_comments_since_2015.csv')"
   ]
  },
  {
   "cell_type": "markdown",
   "id": "8eec7088-9f05-4848-a1b5-9dd32ab6b8f4",
   "metadata": {},
   "source": [
    "Note in here, there are some users that have ffm score but are missing value in one of the ffm axis.\n",
    "If we chose to take those into consideration we will have 1608 users.\n",
    "Right now with this way of filterring, we have 1568 users. <br>\n",
    "\n",
    "Another important thing to note, the amount of users may verray, when I did menual check, I saw that there are users\n",
    "that are present in the \"users list\" but not in the \"users comments\" file and vise versa."
   ]
  },
  {
   "cell_type": "code",
   "execution_count": 2,
   "id": "82ca175b-f40f-462a-b7f3-1985dd318450",
   "metadata": {
    "tags": []
   },
   "outputs": [],
   "source": [
    "# Filter the users who have big five scores\n",
    "users_with_scores = users_df.dropna(subset=['agreeableness', 'openness', 'conscientiousness', 'extraversion', 'neuroticism'])"
   ]
  },
  {
   "cell_type": "code",
   "execution_count": 3,
   "id": "6033d5e4-6945-4c99-b48f-51ac3d7c7b39",
   "metadata": {
    "tags": []
   },
   "outputs": [],
   "source": [
    "# Save the filtered users to a new CSV\n",
    "users_with_scores.to_csv('users_with_scores.csv', index=False)"
   ]
  },
  {
   "cell_type": "code",
   "execution_count": 4,
   "id": "e9a3ac2b-0c5b-48ae-bbf5-a81550ab1064",
   "metadata": {
    "tags": []
   },
   "outputs": [],
   "source": [
    "# Filter the comments of the users who have big five scores\n",
    "comments_filtered = comments_df[comments_df['author'].isin(users_with_scores['author'])]"
   ]
  },
  {
   "cell_type": "code",
   "execution_count": 5,
   "id": "02fd63bb-9a48-4597-96a3-4606b0d8d510",
   "metadata": {
    "tags": []
   },
   "outputs": [],
   "source": [
    "# Save the filtered comments to a new CSV\n",
    "comments_filtered.to_csv('comments_filtered.csv', index=False)"
   ]
  },
  {
   "cell_type": "code",
   "execution_count": 7,
   "id": "a202072b-1541-4348-ab52-bf9e689297cd",
   "metadata": {
    "tags": []
   },
   "outputs": [
    {
     "data": {
      "text/plain": [
       "myexsparamour        52406\n",
       "WittyOriginalName    44989\n",
       "Silverlight42        43914\n",
       "fifthchevron         42806\n",
       "Shadow_Of_           36920\n",
       "                     ...  \n",
       "Ryanw8282                1\n",
       "quiapossevidentur        1\n",
       "FJackSteel               1\n",
       "elvesarecool             1\n",
       "heloxcall                1\n",
       "Name: author, Length: 1568, dtype: int64"
      ]
     },
     "execution_count": 7,
     "metadata": {},
     "output_type": "execute_result"
    }
   ],
   "source": [
    "comments_filtered['author'].value_counts()"
   ]
  },
  {
   "cell_type": "markdown",
   "id": "c003254e-9cfe-4919-b3e2-3b4b62a05293",
   "metadata": {},
   "source": [
    "After a quick check, we can see that the number of users in the \"users list\" match the number of users in the \"users comments\" file."
   ]
  },
  {
   "cell_type": "code",
   "execution_count": null,
   "id": "60b3769a-fac6-4734-9cb1-0e2425f7b32e",
   "metadata": {},
   "outputs": [],
   "source": []
  }
 ],
 "metadata": {
  "kernelspec": {
   "display_name": "Python (Study)",
   "language": "python",
   "name": "study"
  },
  "language_info": {
   "codemirror_mode": {
    "name": "ipython",
    "version": 3
   },
   "file_extension": ".py",
   "mimetype": "text/x-python",
   "name": "python",
   "nbconvert_exporter": "python",
   "pygments_lexer": "ipython3",
   "version": "3.9.16"
  }
 },
 "nbformat": 4,
 "nbformat_minor": 5
}
